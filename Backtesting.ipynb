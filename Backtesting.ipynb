{
 "cells": [
  {
   "cell_type": "code",
   "execution_count": 1,
   "id": "56e6c3ee-7c7f-4bde-8e8a-6b768db05176",
   "metadata": {},
   "outputs": [],
   "source": [
    "import pandas as pd\n",
    "import numpy as np\n",
    "import matplotlib.pyplot as plt\n",
    "import yfinance as yf"
   ]
  },
  {
   "cell_type": "code",
   "execution_count": 62,
   "id": "ec50fb3e-c991-4826-bd27-b757a1b8d33e",
   "metadata": {},
   "outputs": [],
   "source": [
    "class IterativeBase:\n",
    "    def __init__(self, symbol, start, end, amount, use_spread = True):\n",
    "        self.symbol = symbol\n",
    "        self.start = start\n",
    "        self.end = end\n",
    "        self.amount = amount\n",
    "        self.position = 0\n",
    "        self.initial_balance = amount\n",
    "        self.current_balance = amount\n",
    "        self.units = 0\n",
    "        self.trades = 0\n",
    "        self.use_spread = use_spread #eza bdna trading cost inc\n",
    "        self.get_data()\n",
    "\n",
    "    def get_data(self):\n",
    "        raw = yf.download(self.symbol, start=self.start, end=self.end)\n",
    "        raw.reset_index(inplace=True)\n",
    "        raw['Spread'] = raw['High'] - raw['Low']\n",
    "        raw.rename(columns={\"Date\": \"time\", \"Close\": \"price\"}, inplace=True)  # Rename first\n",
    "        raw = raw[['time', 'price', 'Spread']].copy()  # Then subset\n",
    "        raw = raw.loc[(raw['time'] >= self.start) & (raw['time'] <= self.end)]\n",
    "        raw[\"returns\"] = np.log(raw[\"price\"] / raw[\"price\"].shift(1))\n",
    "        self.data = raw\n",
    "\n",
    "    def plot_data(self, cols=None):\n",
    "        if cols is None:\n",
    "            cols = \"price\"\n",
    "        self.data[cols].plot(figsize=(12, 8), title=self.symbol)\n",
    "        plt.show()\n",
    "\n",
    "    def get_values(self, bar):\n",
    "        date = str(self.data['time'].iloc[bar].date())\n",
    "        price = round(self.data['price'].iloc[bar], 5)\n",
    "        spread = round(self.data['Spread'].iloc[bar], 5)\n",
    "        return date, price, spread\n",
    "    def print_current_position_value(self,bar):\n",
    "        date,price,spread = self.get_values(bar)\n",
    "        cpv = self.units * price\n",
    "        print(\"{} | current Position Value = {} \".format(date,round(cpv,2)))\n",
    "\n",
    "    def print_current_balance(self, bar):\n",
    "        date, price, spread = self.get_values(bar)\n",
    "        print(f\"{date} | Current balance: {self.current_balance:.2f}\")\n",
    "\n",
    "    def buy_instrument(self, bar, units=None, amount=None):\n",
    "        date, price, spread = self.get_values(bar)\n",
    "        if self.use_spread:\n",
    "            price += spread/2 #ask price \n",
    "        if amount is not None:\n",
    "            units = int(amount / price)\n",
    "        if units * price > self.current_balance:\n",
    "            print(\"Insufficient funds to complete the purchase.\")\n",
    "            return\n",
    "        self.current_balance -= units * price\n",
    "        self.units += units\n",
    "        self.trades += 1\n",
    "        print(f\"{date} | Buying {units} units for {price:.2f}\")\n",
    "    def sell_instrument(self,bar,units = None , amount = None):\n",
    "        date, price, spread = self.get_values(bar)\n",
    "        if self.use_spread:\n",
    "            price -= spread/2 #3m nemche negative bi sel\n",
    "        if amount is not None:\n",
    "            units = int(amount / price)\n",
    "        if units * price > self.current_balance:\n",
    "            print(\"Insufficient funds to complete the purchase.\")\n",
    "            return\n",
    "        self.current_balance += units * price\n",
    "        self.units -= units\n",
    "        self.trades += 1\n",
    "        print(f\"{date} | Selling {units} units for {price:.2f}\")\n",
    "\n",
    "    def __repr__(self):\n",
    "        return f\"IterativeBase(symbol={self.symbol}, start={self.start}, end={self.end}, current_balance={self.current_balance}, units={self.units}, trades={self.trades})\"\n",
    "    def close_pos(self,bar):\n",
    "        date,price,spread = self.get_values(bar)\n",
    "        print(75 * \"-\")\n",
    "        print(\"{} | +++ CLOSING FINAL POISTION +++\".format(date))\n",
    "        self.current_balance += self.units*price #if it was a sell units ha tkoun - so balance will decrease\n",
    "        self.current_balance -= (abs(self.units)*spread/2*self.use_spread)#7*False =0\n",
    "        print(\"{} | closing position of {}  for {} \".format(date,self.units,price))\n",
    "        self.units = 0\n",
    "        self.trades += 1\n",
    "        perf = (self.current_balance - self.initial_balance) / self.initial_balance * 100\n",
    "        self.print_current_balance(bar)\n",
    "        print(\"{} | net perfomamnce (%) = {}\".format(date,round(perf,2)))\n",
    "        print(\"{} | number of trades executedd = {} \".format(date,self.trades))\n",
    "        print(75 * \"-\")\n",
    "        "
   ]
  },
  {
   "cell_type": "code",
   "execution_count": 65,
   "id": "39f067b8-d3fc-4021-a7c3-4cdb06c12743",
   "metadata": {},
   "outputs": [],
   "source": [
    "class IterativeBacktest(IterativeBase):\n",
    "    def __init__(self, symbol, start, end, amount, use_spread=True):\n",
    "        super().__init__(symbol, start, end, amount, use_spread)\n",
    "        self.position = 0\n",
    "\n",
    "    def go_long(self, bar, units=None, amount=None):\n",
    "        if self.position == -1:  # If currently in a short position\n",
    "            self.buy_instrument(bar, units=self.units)  # Close short position by buying\n",
    "        if units:\n",
    "            self.buy_instrument(bar, units=units)\n",
    "        elif amount:\n",
    "            if amount == \"all\":\n",
    "                amount = self.current_balance\n",
    "            self.buy_instrument(bar, amount=amount)\n",
    "        self.position = 1\n",
    "\n",
    "    def go_short(self, bar, units=None, amount=None):\n",
    "        if self.position == 1:  # If currently in a long position\n",
    "            self.sell_instrument(bar, units=self.units)  # Close long position by selling\n",
    "        if units:\n",
    "            self.sell_instrument(bar, units=units)\n",
    "        elif amount:\n",
    "            if amount == \"all\":\n",
    "                amount = self.current_balance\n",
    "            self.sell_instrument(bar, amount=amount)\n",
    "        self.position = -1\n",
    "\n",
    "    def test_sma_strategy(self, SMA_S, SMA_L):\n",
    "        self.position = 0\n",
    "        self.trades = 0\n",
    "        self.current_balance = self.initial_balance\n",
    "        self.get_data()\n",
    "        self.data[\"SMA_S\"] = self.data[\"price\"].rolling(window=SMA_S).mean()\n",
    "        self.data[\"SMA_L\"] = self.data[\"price\"].rolling(window=SMA_L).mean()\n",
    "\n",
    "        for bar in range(len(self.data) - 1):\n",
    "            if self.data[\"SMA_S\"].iloc[bar] > self.data[\"SMA_L\"].iloc[bar]:\n",
    "                if self.position in [0, -1]:\n",
    "                    self.go_long(bar, amount=\"all\")\n",
    "            elif self.data[\"SMA_S\"].iloc[bar] < self.data[\"SMA_L\"].iloc[bar]:\n",
    "                if self.position in [0, 1]:\n",
    "                    self.go_short(bar, amount=\"all\")\n",
    "            if self.position != 0:\n",
    "                self.close_pos(len(self.data) - 1)"
   ]
  },
  {
   "cell_type": "code",
   "execution_count": 55,
   "id": "a23018d6-474c-4a19-a76a-3d10d5d397d1",
   "metadata": {},
   "outputs": [
    {
     "name": "stdout",
     "output_type": "stream",
     "text": [
      "2023-01-01 | Buying 8000000 units for 16679.68\n"
     ]
    }
   ],
   "source": [
    "k.buy_instrument(0,units= 8000000) #supose you want to buy at day 1 (bar  = 0) 10k units "
   ]
  },
  {
   "cell_type": "code",
   "execution_count": 57,
   "id": "498b7fac-a1fd-4f4a-a514-f3c6fd63bf2f",
   "metadata": {},
   "outputs": [
    {
     "name": "stdout",
     "output_type": "stream",
     "text": [
      "2023-01-01 | Current balance: 9866562539040.00\n"
     ]
    }
   ],
   "source": [
    "k.print_current_balance(0) #we lost from trading cost"
   ]
  },
  {
   "cell_type": "code",
   "execution_count": 58,
   "id": "215bc530-c8dd-4b4e-9c25-e866b6ac847d",
   "metadata": {},
   "outputs": [
    {
     "name": "stdout",
     "output_type": "stream",
     "text": [
      "2023-01-01 | current Position Value = 133000640640.0 \n"
     ]
    }
   ],
   "source": [
    "k.print_current_position_value(0)"
   ]
  },
  {
   "cell_type": "code",
   "execution_count": 59,
   "id": "db983dd7-c18e-4058-9633-81043e02bb4f",
   "metadata": {},
   "outputs": [
    {
     "name": "stdout",
     "output_type": "stream",
     "text": [
      "2024-05-04 | Current balance: 9866562539040.00\n"
     ]
    }
   ],
   "source": [
    "#supose we holded for the position for the last year ( after 1 year here)\n",
    "k.print_current_balance(-1) #not change mosriyetk ma da2et fioyn"
   ]
  },
  {
   "cell_type": "code",
   "execution_count": 60,
   "id": "29ec7bbe-6ce5-49dc-b436-7992a555516b",
   "metadata": {},
   "outputs": [
    {
     "name": "stdout",
     "output_type": "stream",
     "text": [
      "2024-05-04 | current Position Value = 511131781280.0 \n"
     ]
    }
   ],
   "source": [
    "k.print_current_position_value(-1)"
   ]
  },
  {
   "cell_type": "code",
   "execution_count": 61,
   "id": "502f11a0-891a-4622-a6e2-28cd7a2a02f9",
   "metadata": {},
   "outputs": [
    {
     "name": "stdout",
     "output_type": "stream",
     "text": [
      "---------------------------------------------------------------------------\n",
      "2024-05-04 | +++ CLOSING FINAL POISTION +++\n",
      "2024-05-04 | closing position of 8000000  for 63891.47266 \n",
      "2024-05-04 | Current balance: 10370111898440.00\n",
      "2024-05-04 | net perfomamnce (%) = 3.7\n",
      "2024-05-04 | number of trades executedd = 2 \n",
      "---------------------------------------------------------------------------\n"
     ]
    }
   ],
   "source": [
    "k.close_pos(-1) "
   ]
  },
  {
   "cell_type": "code",
   "execution_count": null,
   "id": "d94b411f-fd4f-43e4-a5be-e60fe1913cc4",
   "metadata": {},
   "outputs": [],
   "source": []
  },
  {
   "cell_type": "code",
   "execution_count": null,
   "id": "183edc7f-040b-4d61-a3cf-a90bbaccf9bf",
   "metadata": {},
   "outputs": [],
   "source": []
  },
  {
   "cell_type": "code",
   "execution_count": null,
   "id": "394ca4c7-59f1-485c-9382-f260a8d095ae",
   "metadata": {},
   "outputs": [],
   "source": []
  }
 ],
 "metadata": {
  "kernelspec": {
   "display_name": "Python 3 (ipykernel)",
   "language": "python",
   "name": "python3"
  },
  "language_info": {
   "codemirror_mode": {
    "name": "ipython",
    "version": 3
   },
   "file_extension": ".py",
   "mimetype": "text/x-python",
   "name": "python",
   "nbconvert_exporter": "python",
   "pygments_lexer": "ipython3",
   "version": "3.11.7"
  }
 },
 "nbformat": 4,
 "nbformat_minor": 5
}
